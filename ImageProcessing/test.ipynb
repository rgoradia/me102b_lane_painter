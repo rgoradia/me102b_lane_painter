{
 "cells": [
  {
   "cell_type": "code",
   "execution_count": 1,
   "metadata": {
    "collapsed": true
   },
   "outputs": [],
   "source": [
    "import matplotlib.pyplot as plt \n",
    "import Process as p\n",
    "import numpy as np\n",
    "import math as m \n"
   ]
  },
  {
   "cell_type": "code",
   "execution_count": 2,
   "metadata": {
    "collapsed": true
   },
   "outputs": [],
   "source": [
    "#define path \n",
    "path = \"C://Users//Ymubarak//Documents//ME102B//me102b_lane_painter//ImageProcessing//lines.txt\""
   ]
  },
  {
   "cell_type": "code",
   "execution_count": 3,
   "metadata": {},
   "outputs": [],
   "source": [
    "# Make Image Object \n",
    "Im = p.Image(path)\n",
    "nodelist= Im.getNodes() \n",
    "\n"
   ]
  },
  {
   "cell_type": "code",
   "execution_count": 4,
   "metadata": {
    "scrolled": true
   },
   "outputs": [
    {
     "data": {
      "image/png": "[encoded data removed]",
      "text/plain": [
       "<matplotlib.figure.Figure at 0x2cee4eb44a8>"
      ]
     },
     "metadata": {},
     "output_type": "display_data"
    }
   ],
   "source": [
    "# seeing whole map shape  \n",
    "\n",
    "\n",
    "x1 = [n.xloc for n in nodelist]\n",
    "x2 = [n.yloc for n in nodelist]\n",
    "plt.scatter(x1,x2)  \n",
    "plt.show() \n"
   ]
  },
  {
   "cell_type": "code",
   "execution_count": 5,
   "metadata": {},
   "outputs": [
    {
     "data": {
      "image/png": "[encoded data removed]",
      "text/plain": [
       "<matplotlib.figure.Figure at 0x2cee4edb0f0>"
      ]
     },
     "metadata": {},
     "output_type": "display_data"
    },
    {
     "data": {
      "text/plain": [
       "0.0"
      ]
     },
     "execution_count": 5,
     "metadata": {},
     "output_type": "execute_result"
    }
   ],
   "source": [
    "#testing the get neighbors function \n",
    "\n",
    "random_node =0\n",
    "nextnode = 1\n",
    "\n",
    "n_size =4\n",
    "n0 =nodelist[random_node]\n",
    "ns = n0.findneighbors(nodelist,n_size) \n",
    "x = [n.xloc for n in ns]\n",
    "y = [n.yloc for n in ns]\n",
    "plt.scatter(x,y)    \n",
    "plt.scatter(n0.xloc , n0.yloc)\n",
    "\n",
    "#close= Im.NearestNode([n0.xloc, n0.yloc], nodelist)\n",
    "#dist= close[1]\n",
    "#closenode= close[0] \n",
    "closenode = nodelist[nextnode]\n",
    "plt.scatter(closenode.xloc, closenode.yloc)\n",
    "plt.show()  \n",
    "\n",
    "p.getangle(n0, closenode)\n"
   ]
  },
  {
   "cell_type": "code",
   "execution_count": 6,
   "metadata": {},
   "outputs": [],
   "source": [
    "\n",
    "# #trying the least squares approach \n",
    "        \n",
    "# [n,error]=n0.gettangent(ns)\n",
    "\n",
    "# n\n",
    "# error\n",
    "\n",
    "# ran = np.array(list(range(-2,2))) \n",
    "# yhat = n[0]*ran \n",
    "# plt.scatter(x,y)\n",
    "# #plt.scatter(ran,yhat)\n",
    "# plt.show() \n",
    "\n",
    "# op_adj = n[0][0]\n",
    "# m.atan(op_adj**-1) * 180/3.142\n"
   ]
  },
  {
   "cell_type": "code",
   "execution_count": 7,
   "metadata": {},
   "outputs": [
    {
     "data": {
      "image/png": "[encoded data removed]",
      "text/plain": [
       "<matplotlib.figure.Figure at 0x2cee56c3128>"
      ]
     },
     "metadata": {},
     "output_type": "display_data"
    }
   ],
   "source": [
    "\n",
    "commands = Im.getNextStates(10) \n",
    "\n",
    "p0 = [n0.xloc , n0.yloc]\n",
    "for i in range(0,len(commands)):\n",
    "    theta = commands[i][0]\n",
    "    dist = commands[i][1]\n",
    "    pn = [dist*m.cos(theta) + p0[0], dist*m.sin(theta) + p0[1]] \n",
    "    if  commands[i][2] : \n",
    "        plt.plot([p0[0], pn[0]],[p0[1], pn[1]] )\n",
    "    p0= pn\n",
    "    \n",
    "\n",
    "x1 = [n.xloc for n in nodelist]\n",
    "x2 = [n.yloc for n in nodelist]\n",
    "plt.scatter(x1,x2)  \n",
    "plt.show() \n"
   ]
  },
  {
   "cell_type": "code",
   "execution_count": null,
   "metadata": {},
   "outputs": [],
   "source": []
  },
  {
   "cell_type": "code",
   "execution_count": null,
   "metadata": {},
   "outputs": [],
   "source": []
  },
  {
   "cell_type": "code",
   "execution_count": null,
   "metadata": {
    "collapsed": true
   },
   "outputs": [],
   "source": [
    "\n"
   ]
  },
  {
   "cell_type": "code",
   "execution_count": null,
   "metadata": {
    "collapsed": true
   },
   "outputs": [],
   "source": []
  },
  {
   "cell_type": "code",
   "execution_count": null,
   "metadata": {
    "collapsed": true
   },
   "outputs": [],
   "source": []
  }
 ],
 "metadata": {
  "celltoolbar": "Attachments",
  "kernelspec": {
   "display_name": "Python 3",
   "language": "python",
   "name": "python3"
  },
  "language_info": {
   "codemirror_mode": {
    "name": "ipython",
    "version": 3
   },
   "file_extension": ".py",
   "mimetype": "text/x-python",
   "name": "python",
   "nbconvert_exporter": "python",
   "pygments_lexer": "ipython3",
   "version": "3.6.1"
  }
 },
 "nbformat": 4,
 "nbformat_minor": 2
}
